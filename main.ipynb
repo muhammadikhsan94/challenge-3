{
  "nbformat": 4,
  "nbformat_minor": 0,
  "metadata": {
    "colab": {
      "name": "Challenge 3 - Kelompok 6.ipynb",
      "provenance": [],
      "collapsed_sections": [
        "j_lmX6gxHkbl"
      ]
    },
    "kernelspec": {
      "name": "python3",
      "display_name": "Python 3"
    },
    "accelerator": "GPU"
  },
  "cells": [
    {
      "cell_type": "markdown",
      "metadata": {
        "id": "j_lmX6gxHkbl"
      },
      "source": [
        "#Download Dataset"
      ]
    },
    {
      "cell_type": "code",
      "metadata": {
        "id": "qfLAmxwvXXBE",
        "outputId": "8bb09aea-1376-4a66-8379-c7f3cf0286e6",
        "colab": {
          "base_uri": "https://localhost:8080/",
          "height": 0
        }
      },
      "source": [
        "!git clone \"https://github.com/muhammadikhsan94/challenge-3\""
      ],
      "execution_count": 1,
      "outputs": [
        {
          "output_type": "stream",
          "text": [
            "fatal: destination path 'challenge-3' already exists and is not an empty directory.\n"
          ],
          "name": "stdout"
        }
      ]
    },
    {
      "cell_type": "markdown",
      "metadata": {
        "id": "3nNXJkDXHnQz"
      },
      "source": [
        "#Import Library"
      ]
    },
    {
      "cell_type": "code",
      "metadata": {
        "id": "9sbWKxs6Z8pX"
      },
      "source": [
        "import pandas as pd\n",
        "import matplotlib.pyplot as plt\n",
        "import numpy as np\n",
        "import seaborn as sns\n",
        "import os\n",
        "\n",
        "from keras.models import Model, load_model\n",
        "from keras.layers import LSTM, Activation, Dense, Dropout, Input, Embedding\n",
        "from keras.optimizers import RMSprop\n",
        "from keras.utils import to_categorical\n",
        "from keras.callbacks import ModelCheckpoint\n",
        "from keras.optimizers import Adam\n",
        "from sklearn.metrics import confusion_matrix\n",
        "from sklearn.metrics import classification_report\n",
        "\n",
        "%matplotlib inline"
      ],
      "execution_count": 2,
      "outputs": []
    },
    {
      "cell_type": "markdown",
      "metadata": {
        "id": "HFp4yYeuHplE"
      },
      "source": [
        "#Data"
      ]
    },
    {
      "cell_type": "code",
      "metadata": {
        "id": "95aTyBDvXnOn",
        "outputId": "93233109-fc5a-42ad-f8c3-459c7781dcd5",
        "colab": {
          "base_uri": "https://localhost:8080/",
          "height": 0
        }
      },
      "source": [
        "df = pd.read_csv(\"/content/challenge-3/train.csv\", encoding='latin-1')\n",
        "df = df[['Tweet', 'HS']]\n",
        "df.head(2)"
      ],
      "execution_count": 3,
      "outputs": [
        {
          "output_type": "execute_result",
          "data": {
            "text/html": [
              "<div>\n",
              "<style scoped>\n",
              "    .dataframe tbody tr th:only-of-type {\n",
              "        vertical-align: middle;\n",
              "    }\n",
              "\n",
              "    .dataframe tbody tr th {\n",
              "        vertical-align: top;\n",
              "    }\n",
              "\n",
              "    .dataframe thead th {\n",
              "        text-align: right;\n",
              "    }\n",
              "</style>\n",
              "<table border=\"1\" class=\"dataframe\">\n",
              "  <thead>\n",
              "    <tr style=\"text-align: right;\">\n",
              "      <th></th>\n",
              "      <th>Tweet</th>\n",
              "      <th>HS</th>\n",
              "    </tr>\n",
              "  </thead>\n",
              "  <tbody>\n",
              "    <tr>\n",
              "      <th>0</th>\n",
              "      <td>- disaat semua cowok berusaha melacak perhatia...</td>\n",
              "      <td>1</td>\n",
              "    </tr>\n",
              "    <tr>\n",
              "      <th>1</th>\n",
              "      <td>RT USER: USER siapa yang telat ngasih tau elu?...</td>\n",
              "      <td>0</td>\n",
              "    </tr>\n",
              "  </tbody>\n",
              "</table>\n",
              "</div>"
            ],
            "text/plain": [
              "                                               Tweet  HS\n",
              "0  - disaat semua cowok berusaha melacak perhatia...   1\n",
              "1  RT USER: USER siapa yang telat ngasih tau elu?...   0"
            ]
          },
          "metadata": {
            "tags": []
          },
          "execution_count": 3
        }
      ]
    },
    {
      "cell_type": "code",
      "metadata": {
        "id": "Jsmu2jBfYZLK",
        "outputId": "1201f4af-a333-4461-b596-59d2f76c4438",
        "colab": {
          "base_uri": "https://localhost:8080/",
          "height": 0
        }
      },
      "source": [
        "df.info()"
      ],
      "execution_count": 4,
      "outputs": [
        {
          "output_type": "stream",
          "text": [
            "<class 'pandas.core.frame.DataFrame'>\n",
            "RangeIndex: 13169 entries, 0 to 13168\n",
            "Data columns (total 2 columns):\n",
            " #   Column  Non-Null Count  Dtype \n",
            "---  ------  --------------  ----- \n",
            " 0   Tweet   13169 non-null  object\n",
            " 1   HS      13169 non-null  int64 \n",
            "dtypes: int64(1), object(1)\n",
            "memory usage: 205.9+ KB\n"
          ],
          "name": "stdout"
        }
      ]
    },
    {
      "cell_type": "code",
      "metadata": {
        "id": "AUHxQH57YOPO",
        "outputId": "97bf0cff-988c-4ec5-d125-3462229c2dc5",
        "colab": {
          "base_uri": "https://localhost:8080/",
          "height": 0
        }
      },
      "source": [
        "sns.countplot(df.HS)\n",
        "plt.xlabel('Label') # 0 = No Hate Speech, 1 = Hate Speech\n",
        "plt.title('Hate Speech')\n",
        "plt.show()"
      ],
      "execution_count": 5,
      "outputs": [
        {
          "output_type": "stream",
          "text": [
            "/usr/local/lib/python3.6/dist-packages/seaborn/_decorators.py:43: FutureWarning: Pass the following variable as a keyword arg: x. From version 0.12, the only valid positional argument will be `data`, and passing other arguments without an explicit keyword will result in an error or misinterpretation.\n",
            "  FutureWarning\n"
          ],
          "name": "stderr"
        },
        {
          "output_type": "display_data",
          "data": {
            "image/png": "[encoded data removed]",
            "text/plain": [
              "<Figure size 432x288 with 1 Axes>"
            ]
          },
          "metadata": {
            "tags": [],
            "needs_background": "light"
          }
        }
      ]
    },
    {
      "cell_type": "markdown",
      "metadata": {
        "id": "HOjEVZfJnAfj"
      },
      "source": [
        "#Kamus Bahasa"
      ]
    },
    {
      "cell_type": "code",
      "metadata": {
        "id": "T71fNmTrnW0t",
        "outputId": "125af946-b8ce-4bc4-9b25-34f8bf8ee5c3",
        "colab": {
          "base_uri": "https://localhost:8080/",
          "height": 419
        }
      },
      "source": [
        "kata_alay = pd.read_csv(\"/content/challenge-3/kamus_alay.csv\", encoding='latin-1', header=None)\n",
        "kata_alay = kata_alay.rename(columns={0: \"Original\", 1: \"Replacement\"})\n",
        "kata_alay"
      ],
      "execution_count": 6,
      "outputs": [
        {
          "output_type": "execute_result",
          "data": {
            "text/html": [
              "<div>\n",
              "<style scoped>\n",
              "    .dataframe tbody tr th:only-of-type {\n",
              "        vertical-align: middle;\n",
              "    }\n",
              "\n",
              "    .dataframe tbody tr th {\n",
              "        vertical-align: top;\n",
              "    }\n",
              "\n",
              "    .dataframe thead th {\n",
              "        text-align: right;\n",
              "    }\n",
              "</style>\n",
              "<table border=\"1\" class=\"dataframe\">\n",
              "  <thead>\n",
              "    <tr style=\"text-align: right;\">\n",
              "      <th></th>\n",
              "      <th>Original</th>\n",
              "      <th>Replacement</th>\n",
              "    </tr>\n",
              "  </thead>\n",
              "  <tbody>\n",
              "    <tr>\n",
              "      <th>0</th>\n",
              "      <td>anakjakartaasikasik</td>\n",
              "      <td>anak jakarta asyik asyik</td>\n",
              "    </tr>\n",
              "    <tr>\n",
              "      <th>1</th>\n",
              "      <td>pakcikdahtua</td>\n",
              "      <td>pak cik sudah tua</td>\n",
              "    </tr>\n",
              "    <tr>\n",
              "      <th>2</th>\n",
              "      <td>pakcikmudalagi</td>\n",
              "      <td>pak cik muda lagi</td>\n",
              "    </tr>\n",
              "    <tr>\n",
              "      <th>3</th>\n",
              "      <td>t3tapjokowi</td>\n",
              "      <td>tetap jokowi</td>\n",
              "    </tr>\n",
              "    <tr>\n",
              "      <th>4</th>\n",
              "      <td>3x</td>\n",
              "      <td>tiga kali</td>\n",
              "    </tr>\n",
              "    <tr>\n",
              "      <th>...</th>\n",
              "      <td>...</td>\n",
              "      <td>...</td>\n",
              "    </tr>\n",
              "    <tr>\n",
              "      <th>15162</th>\n",
              "      <td>mendikbud</td>\n",
              "      <td>menteri pendidikan dan kebudayaan</td>\n",
              "    </tr>\n",
              "    <tr>\n",
              "      <th>15163</th>\n",
              "      <td>mendag</td>\n",
              "      <td>menteri perdagangan</td>\n",
              "    </tr>\n",
              "    <tr>\n",
              "      <th>15164</th>\n",
              "      <td>menaker</td>\n",
              "      <td>menteri tenaga kerja</td>\n",
              "    </tr>\n",
              "    <tr>\n",
              "      <th>15165</th>\n",
              "      <td>memetwit</td>\n",
              "      <td>mentwit</td>\n",
              "    </tr>\n",
              "    <tr>\n",
              "      <th>15166</th>\n",
              "      <td>megangin</td>\n",
              "      <td>memegang</td>\n",
              "    </tr>\n",
              "  </tbody>\n",
              "</table>\n",
              "<p>15167 rows × 2 columns</p>\n",
              "</div>"
            ],
            "text/plain": [
              "                  Original                        Replacement\n",
              "0      anakjakartaasikasik           anak jakarta asyik asyik\n",
              "1             pakcikdahtua                  pak cik sudah tua\n",
              "2           pakcikmudalagi                  pak cik muda lagi\n",
              "3              t3tapjokowi                       tetap jokowi\n",
              "4                       3x                          tiga kali\n",
              "...                    ...                                ...\n",
              "15162            mendikbud  menteri pendidikan dan kebudayaan\n",
              "15163               mendag                menteri perdagangan\n",
              "15164              menaker               menteri tenaga kerja\n",
              "15165             memetwit                            mentwit\n",
              "15166             megangin                           memegang\n",
              "\n",
              "[15167 rows x 2 columns]"
            ]
          },
          "metadata": {
            "tags": []
          },
          "execution_count": 6
        }
      ]
    },
    {
      "cell_type": "code",
      "metadata": {
        "id": "Ex4q19XUo7kF",
        "outputId": "a35e63a6-c3f2-474e-e240-1c7463ddfcb2",
        "colab": {
          "base_uri": "https://localhost:8080/",
          "height": 419
        }
      },
      "source": [
        "stopword_dict = pd.read_csv(\"/content/challenge-3/stopwordbahasa.csv\", header=None)\n",
        "stopword_dict = stopword_dict.rename(columns={0: \"stopword\"})\n",
        "stopword_dict"
      ],
      "execution_count": 7,
      "outputs": [
        {
          "output_type": "execute_result",
          "data": {
            "text/html": [
              "<div>\n",
              "<style scoped>\n",
              "    .dataframe tbody tr th:only-of-type {\n",
              "        vertical-align: middle;\n",
              "    }\n",
              "\n",
              "    .dataframe tbody tr th {\n",
              "        vertical-align: top;\n",
              "    }\n",
              "\n",
              "    .dataframe thead th {\n",
              "        text-align: right;\n",
              "    }\n",
              "</style>\n",
              "<table border=\"1\" class=\"dataframe\">\n",
              "  <thead>\n",
              "    <tr style=\"text-align: right;\">\n",
              "      <th></th>\n",
              "      <th>stopword</th>\n",
              "    </tr>\n",
              "  </thead>\n",
              "  <tbody>\n",
              "    <tr>\n",
              "      <th>0</th>\n",
              "      <td>ada</td>\n",
              "    </tr>\n",
              "    <tr>\n",
              "      <th>1</th>\n",
              "      <td>adalah</td>\n",
              "    </tr>\n",
              "    <tr>\n",
              "      <th>2</th>\n",
              "      <td>adanya</td>\n",
              "    </tr>\n",
              "    <tr>\n",
              "      <th>3</th>\n",
              "      <td>adapun</td>\n",
              "    </tr>\n",
              "    <tr>\n",
              "      <th>4</th>\n",
              "      <td>agak</td>\n",
              "    </tr>\n",
              "    <tr>\n",
              "      <th>...</th>\n",
              "      <td>...</td>\n",
              "    </tr>\n",
              "    <tr>\n",
              "      <th>753</th>\n",
              "      <td>wong</td>\n",
              "    </tr>\n",
              "    <tr>\n",
              "      <th>754</th>\n",
              "      <td>yaitu</td>\n",
              "    </tr>\n",
              "    <tr>\n",
              "      <th>755</th>\n",
              "      <td>yakin</td>\n",
              "    </tr>\n",
              "    <tr>\n",
              "      <th>756</th>\n",
              "      <td>yakni</td>\n",
              "    </tr>\n",
              "    <tr>\n",
              "      <th>757</th>\n",
              "      <td>yang</td>\n",
              "    </tr>\n",
              "  </tbody>\n",
              "</table>\n",
              "<p>758 rows × 1 columns</p>\n",
              "</div>"
            ],
            "text/plain": [
              "    stopword\n",
              "0        ada\n",
              "1     adalah\n",
              "2     adanya\n",
              "3     adapun\n",
              "4       agak\n",
              "..       ...\n",
              "753     wong\n",
              "754    yaitu\n",
              "755    yakin\n",
              "756    yakni\n",
              "757     yang\n",
              "\n",
              "[758 rows x 1 columns]"
            ]
          },
          "metadata": {
            "tags": []
          },
          "execution_count": 7
        }
      ]
    },
    {
      "cell_type": "code",
      "metadata": {
        "id": "UJZam1ohm_3G",
        "outputId": "0263d05e-67ff-495e-fbec-df4fb476c033",
        "colab": {
          "base_uri": "https://localhost:8080/",
          "height": 34
        }
      },
      "source": [
        "# Install Library\n",
        "!pip install PySastrawi\n",
        "\n",
        "import re\n",
        "from Sastrawi.Stemmer.StemmerFactory import StemmerFactory\n",
        "\n",
        "factory = StemmerFactory()\n",
        "stemmer = factory.create_stemmer()\n",
        "\n",
        "def lowercase(text):\n",
        "    return text.lower()\n",
        "\n",
        "def remove_unnecessary_char(text):\n",
        "    text = re.sub('\\n',' ',text)\n",
        "    text = re.sub('rt',' ',text)\n",
        "    text = re.sub('user',' ',text)\n",
        "    text = re.sub('((www\\.[^\\s]+)|(https?://[^\\s]+)|(http?://[^\\s]+))',' ',text)\n",
        "    text = re.sub('  +', ' ', text)\n",
        "    return text\n",
        "    \n",
        "def remove_nonaplhanumeric(text):\n",
        "    text = re.sub('[^0-9a-zA-Z]+', ' ', text) \n",
        "    return text\n",
        "\n",
        "kata_alay_map = dict(zip(kata_alay['Original'], kata_alay['Replacement']))\n",
        "def normalize_alay(text):\n",
        "    return ' '.join([kata_alay_map[word] if word in kata_alay_map else word for word in text.split(' ')])\n",
        "\n",
        "def remove_stopword(text):\n",
        "    text = ' '.join(['' if word in stopword_dict.stopword.values else word for word in text.split(' ')])\n",
        "    text = re.sub('  +', ' ', text)\n",
        "    text = text.strip()\n",
        "    return text\n",
        "\n",
        "def stemming(text):\n",
        "    return stemmer.stem(text)"
      ],
      "execution_count": 8,
      "outputs": [
        {
          "output_type": "stream",
          "text": [
            "Requirement already satisfied: PySastrawi in /usr/local/lib/python3.6/dist-packages (1.2.0)\n"
          ],
          "name": "stdout"
        }
      ]
    },
    {
      "cell_type": "markdown",
      "metadata": {
        "id": "MAQYXgQSHCb8"
      },
      "source": [
        "#Preprocessing"
      ]
    },
    {
      "cell_type": "code",
      "metadata": {
        "id": "aYwPipDQt01b"
      },
      "source": [
        "def preprocess(text):\n",
        "\n",
        "    text = lowercase(text)\n",
        "    text = remove_nonaplhanumeric(text)\n",
        "    text = remove_unnecessary_char(text)\n",
        "    text = normalize_alay(text)\n",
        "    text = stemming(text)\n",
        "    text = remove_stopword(text)\n",
        "    \n",
        "    return text"
      ],
      "execution_count": 9,
      "outputs": []
    },
    {
      "cell_type": "code",
      "metadata": {
        "id": "LeHIbsH2viDC",
        "outputId": "943f7472-09c5-4ba4-a9e8-265591549b2b",
        "colab": {
          "base_uri": "https://localhost:8080/",
          "height": 111
        }
      },
      "source": [
        "df['Tweet'] = df['Tweet'].apply(preprocess)\n",
        "df.head(2)"
      ],
      "execution_count": 10,
      "outputs": [
        {
          "output_type": "execute_result",
          "data": {
            "text/html": [
              "<div>\n",
              "<style scoped>\n",
              "    .dataframe tbody tr th:only-of-type {\n",
              "        vertical-align: middle;\n",
              "    }\n",
              "\n",
              "    .dataframe tbody tr th {\n",
              "        vertical-align: top;\n",
              "    }\n",
              "\n",
              "    .dataframe thead th {\n",
              "        text-align: right;\n",
              "    }\n",
              "</style>\n",
              "<table border=\"1\" class=\"dataframe\">\n",
              "  <thead>\n",
              "    <tr style=\"text-align: right;\">\n",
              "      <th></th>\n",
              "      <th>Tweet</th>\n",
              "      <th>HS</th>\n",
              "    </tr>\n",
              "  </thead>\n",
              "  <tbody>\n",
              "    <tr>\n",
              "      <th>0</th>\n",
              "      <td>cowok usaha lacak perhati gue lantas remeh per...</td>\n",
              "      <td>1</td>\n",
              "    </tr>\n",
              "    <tr>\n",
              "      <th>1</th>\n",
              "      <td>telat tau edan sarap gue gaul cigax jifla cal ...</td>\n",
              "      <td>0</td>\n",
              "    </tr>\n",
              "  </tbody>\n",
              "</table>\n",
              "</div>"
            ],
            "text/plain": [
              "                                               Tweet  HS\n",
              "0  cowok usaha lacak perhati gue lantas remeh per...   1\n",
              "1  telat tau edan sarap gue gaul cigax jifla cal ...   0"
            ]
          },
          "metadata": {
            "tags": []
          },
          "execution_count": 10
        }
      ]
    },
    {
      "cell_type": "markdown",
      "metadata": {
        "id": "qgrmhPSHHZHE"
      },
      "source": [
        "#Tokenisasi"
      ]
    },
    {
      "cell_type": "code",
      "metadata": {
        "id": "Lsp7ligUyFsA"
      },
      "source": [
        "X = df.Tweet\n",
        "Y = df.HS"
      ],
      "execution_count": 11,
      "outputs": []
    },
    {
      "cell_type": "code",
      "metadata": {
        "id": "mCZTI9fB0SvV"
      },
      "source": [
        "from keras.preprocessing.text import Tokenizer\n",
        "from keras.preprocessing import sequence\n",
        "\n",
        "tokenisasi = Tokenizer(num_words=1000)\n",
        "tokenisasi.fit_on_texts(X)\n",
        "sequences = tokenisasi.texts_to_sequences(X)\n",
        "sequences_matrix = sequence.pad_sequences(sequences,maxlen=100)"
      ],
      "execution_count": 12,
      "outputs": []
    },
    {
      "cell_type": "code",
      "metadata": {
        "id": "4wyt6vRVzYZM",
        "outputId": "25bf1298-0074-498f-82f9-cf4ee88ebf9a",
        "colab": {
          "base_uri": "https://localhost:8080/",
          "height": 34
        }
      },
      "source": [
        "from sklearn.model_selection import train_test_split\n",
        "\n",
        "X_train, X_val, y_train, y_val = train_test_split(sequences_matrix, Y, test_size=0.2, shuffle=True)\n",
        "X_train.shape"
      ],
      "execution_count": 13,
      "outputs": [
        {
          "output_type": "execute_result",
          "data": {
            "text/plain": [
              "(10535, 100)"
            ]
          },
          "metadata": {
            "tags": []
          },
          "execution_count": 13
        }
      ]
    },
    {
      "cell_type": "markdown",
      "metadata": {
        "id": "E4UVyePtHbPp"
      },
      "source": [
        "#Training Model"
      ]
    },
    {
      "cell_type": "code",
      "metadata": {
        "id": "tczZK8kx0uvq"
      },
      "source": [
        "def RNN():\n",
        "    inputs = Input(name='inputs',shape=[100])\n",
        "    layer = Embedding(1000, 50, input_length=1000)(inputs)\n",
        "    layer = LSTM(128)(layer)\n",
        "    layer = Dense(256,name='FC1')(layer)\n",
        "    layer = Activation('relu')(layer)\n",
        "    layer = Dropout(0.5)(layer)\n",
        "    layer = Dense(1,name='out_layer')(layer)\n",
        "    layer = Activation('sigmoid')(layer)\n",
        "    model = Model(inputs=inputs,outputs=layer)\n",
        "    return model"
      ],
      "execution_count": 14,
      "outputs": []
    },
    {
      "cell_type": "code",
      "metadata": {
        "id": "kUPghrlF0yAK",
        "outputId": "fe89474f-8a75-4dae-e186-e47160dabb97",
        "colab": {
          "base_uri": "https://localhost:8080/",
          "height": 425
        }
      },
      "source": [
        "model = RNN()\n",
        "model.summary()\n",
        "model.compile(loss='binary_crossentropy', optimizer=Adam(learning_rate=0.001, beta_1=0.9, beta_2=0.999),\n",
        "              metrics=['accuracy'])"
      ],
      "execution_count": 15,
      "outputs": [
        {
          "output_type": "stream",
          "text": [
            "Model: \"functional_1\"\n",
            "_________________________________________________________________\n",
            "Layer (type)                 Output Shape              Param #   \n",
            "=================================================================\n",
            "inputs (InputLayer)          [(None, 100)]             0         \n",
            "_________________________________________________________________\n",
            "embedding (Embedding)        (None, 100, 50)           50000     \n",
            "_________________________________________________________________\n",
            "lstm (LSTM)                  (None, 128)               91648     \n",
            "_________________________________________________________________\n",
            "FC1 (Dense)                  (None, 256)               33024     \n",
            "_________________________________________________________________\n",
            "activation (Activation)      (None, 256)               0         \n",
            "_________________________________________________________________\n",
            "dropout (Dropout)            (None, 256)               0         \n",
            "_________________________________________________________________\n",
            "out_layer (Dense)            (None, 1)                 257       \n",
            "_________________________________________________________________\n",
            "activation_1 (Activation)    (None, 1)                 0         \n",
            "=================================================================\n",
            "Total params: 174,929\n",
            "Trainable params: 174,929\n",
            "Non-trainable params: 0\n",
            "_________________________________________________________________\n"
          ],
          "name": "stdout"
        }
      ]
    },
    {
      "cell_type": "code",
      "metadata": {
        "id": "2yjYrSnj1F-L",
        "outputId": "17a80bff-bd4a-4168-8b91-50388a70bc3d",
        "colab": {
          "base_uri": "https://localhost:8080/",
          "height": 697
        }
      },
      "source": [
        "checkpoint = ModelCheckpoint(\"/content/best_model.hdf5\", monitor=\"accuracy\", verbose=1, mode='max')\n",
        "history = model.fit(X_train, y_train, batch_size=128, epochs=10, validation_data=(X_val, y_val), \n",
        "                    callbacks=[checkpoint])"
      ],
      "execution_count": 16,
      "outputs": [
        {
          "output_type": "stream",
          "text": [
            "Epoch 1/10\n",
            "82/83 [============================>.] - ETA: 0s - loss: 0.5680 - accuracy: 0.6894\n",
            "Epoch 00001: saving model to /content/best_model.hdf5\n",
            "83/83 [==============================] - 1s 17ms/step - loss: 0.5673 - accuracy: 0.6900 - val_loss: 0.4255 - val_accuracy: 0.7965\n",
            "Epoch 2/10\n",
            "82/83 [============================>.] - ETA: 0s - loss: 0.3813 - accuracy: 0.8311\n",
            "Epoch 00002: saving model to /content/best_model.hdf5\n",
            "83/83 [==============================] - 1s 11ms/step - loss: 0.3812 - accuracy: 0.8312 - val_loss: 0.4029 - val_accuracy: 0.8166\n",
            "Epoch 3/10\n",
            "79/83 [===========================>..] - ETA: 0s - loss: 0.3532 - accuracy: 0.8439\n",
            "Epoch 00003: saving model to /content/best_model.hdf5\n",
            "83/83 [==============================] - 1s 11ms/step - loss: 0.3533 - accuracy: 0.8442 - val_loss: 0.4135 - val_accuracy: 0.8132\n",
            "Epoch 4/10\n",
            "82/83 [============================>.] - ETA: 0s - loss: 0.3404 - accuracy: 0.8544\n",
            "Epoch 00004: saving model to /content/best_model.hdf5\n",
            "83/83 [==============================] - 1s 11ms/step - loss: 0.3404 - accuracy: 0.8543 - val_loss: 0.3982 - val_accuracy: 0.8162\n",
            "Epoch 5/10\n",
            "82/83 [============================>.] - ETA: 0s - loss: 0.3296 - accuracy: 0.8590\n",
            "Epoch 00005: saving model to /content/best_model.hdf5\n",
            "83/83 [==============================] - 1s 11ms/step - loss: 0.3294 - accuracy: 0.8590 - val_loss: 0.4070 - val_accuracy: 0.8273\n",
            "Epoch 6/10\n",
            "83/83 [==============================] - ETA: 0s - loss: 0.3184 - accuracy: 0.8644\n",
            "Epoch 00006: saving model to /content/best_model.hdf5\n",
            "83/83 [==============================] - 1s 11ms/step - loss: 0.3184 - accuracy: 0.8644 - val_loss: 0.4168 - val_accuracy: 0.8235\n",
            "Epoch 7/10\n",
            "83/83 [==============================] - ETA: 0s - loss: 0.3041 - accuracy: 0.8709\n",
            "Epoch 00007: saving model to /content/best_model.hdf5\n",
            "83/83 [==============================] - 1s 11ms/step - loss: 0.3041 - accuracy: 0.8709 - val_loss: 0.4199 - val_accuracy: 0.8200\n",
            "Epoch 8/10\n",
            "83/83 [==============================] - ETA: 0s - loss: 0.2877 - accuracy: 0.8779\n",
            "Epoch 00008: saving model to /content/best_model.hdf5\n",
            "83/83 [==============================] - 1s 11ms/step - loss: 0.2877 - accuracy: 0.8779 - val_loss: 0.4356 - val_accuracy: 0.8238\n",
            "Epoch 9/10\n",
            "82/83 [============================>.] - ETA: 0s - loss: 0.2789 - accuracy: 0.8819\n",
            "Epoch 00009: saving model to /content/best_model.hdf5\n",
            "83/83 [==============================] - 1s 11ms/step - loss: 0.2793 - accuracy: 0.8816 - val_loss: 0.4626 - val_accuracy: 0.8231\n",
            "Epoch 10/10\n",
            "82/83 [============================>.] - ETA: 0s - loss: 0.2585 - accuracy: 0.8924\n",
            "Epoch 00010: saving model to /content/best_model.hdf5\n",
            "83/83 [==============================] - 1s 11ms/step - loss: 0.2587 - accuracy: 0.8923 - val_loss: 0.4678 - val_accuracy: 0.8090\n"
          ],
          "name": "stdout"
        }
      ]
    },
    {
      "cell_type": "code",
      "metadata": {
        "id": "a89Jb9Hn5vgw",
        "outputId": "9f2fc004-42d7-477a-e957-37e7ebcd662e",
        "colab": {
          "base_uri": "https://localhost:8080/",
          "height": 831
        }
      },
      "source": [
        "# Plot accuracy & loss\n",
        "plt.plot(history.history['accuracy'])\n",
        "plt.plot(history.history['val_accuracy'])\n",
        "plt.title('model accuracy')\n",
        "plt.ylabel('accuracy')\n",
        "plt.xlabel('epoch')\n",
        "plt.legend(['train','val'], loc='bottom left')\n",
        "plt.show()\n",
        "\n",
        "plt.plot(history.history['loss'])\n",
        "plt.plot(history.history['val_loss'])\n",
        "plt.title('model loss')\n",
        "plt.ylabel('loss')\n",
        "plt.xlabel('epoch')\n",
        "plt.legend(['train','val'], loc='upper left')\n",
        "plt.show()"
      ],
      "execution_count": 17,
      "outputs": [
        {
          "output_type": "stream",
          "text": [
            "/usr/local/lib/python3.6/dist-packages/ipykernel_launcher.py:7: MatplotlibDeprecationWarning: Unrecognized location 'bottom left'. Falling back on 'best'; valid locations are\n",
            "\tbest\n",
            "\tupper right\n",
            "\tupper left\n",
            "\tlower left\n",
            "\tlower right\n",
            "\tright\n",
            "\tcenter left\n",
            "\tcenter right\n",
            "\tlower center\n",
            "\tupper center\n",
            "\tcenter\n",
            "This will raise an exception in 3.3.\n",
            "  import sys\n"
          ],
          "name": "stderr"
        },
        {
          "output_type": "display_data",
          "data": {
            "image/png": "[encoded data removed]",
            "text/plain": [
              "<Figure size 432x288 with 1 Axes>"
            ]
          },
          "metadata": {
            "tags": [],
            "needs_background": "light"
          }
        },
        {
          "output_type": "display_data",
          "data": {
            "image/png": "[encoded data removed]",
            "text/plain": [
              "<Figure size 432x288 with 1 Axes>"
            ]
          },
          "metadata": {
            "tags": [],
            "needs_background": "light"
          }
        }
      ]
    },
    {
      "cell_type": "markdown",
      "metadata": {
        "id": "TzMPfnZZCnul"
      },
      "source": [
        "#Testing Model"
      ]
    },
    {
      "cell_type": "code",
      "metadata": {
        "id": "OnZLbh35CnT8",
        "outputId": "527dded1-f1ec-48cf-a615-a54b5e1b9aab",
        "colab": {
          "base_uri": "https://localhost:8080/",
          "height": 204
        }
      },
      "source": [
        "df_test = pd.read_csv(\"/content/challenge-3/test.csv\", delimiter=\";\", encoding='latin-1')\n",
        "df_test = df_test[['Tweet', 'HS']]\n",
        "df_test.head()"
      ],
      "execution_count": 18,
      "outputs": [
        {
          "output_type": "execute_result",
          "data": {
            "text/html": [
              "<div>\n",
              "<style scoped>\n",
              "    .dataframe tbody tr th:only-of-type {\n",
              "        vertical-align: middle;\n",
              "    }\n",
              "\n",
              "    .dataframe tbody tr th {\n",
              "        vertical-align: top;\n",
              "    }\n",
              "\n",
              "    .dataframe thead th {\n",
              "        text-align: right;\n",
              "    }\n",
              "</style>\n",
              "<table border=\"1\" class=\"dataframe\">\n",
              "  <thead>\n",
              "    <tr style=\"text-align: right;\">\n",
              "      <th></th>\n",
              "      <th>Tweet</th>\n",
              "      <th>HS</th>\n",
              "    </tr>\n",
              "  </thead>\n",
              "  <tbody>\n",
              "    <tr>\n",
              "      <th>0</th>\n",
              "      <td>GANTENG TAPI BERENGSEK!!! BUAT APA?!!\\nWHO DO ...</td>\n",
              "      <td>1</td>\n",
              "    </tr>\n",
              "    <tr>\n",
              "      <th>1</th>\n",
              "      <td>Sakit jiwa kali yah..</td>\n",
              "      <td>0</td>\n",
              "    </tr>\n",
              "    <tr>\n",
              "      <th>2</th>\n",
              "      <td>Does insulting one for being \"Cina\", \"Kafir\", ...</td>\n",
              "      <td>0</td>\n",
              "    </tr>\n",
              "    <tr>\n",
              "      <th>3</th>\n",
              "      <td>USER USER Karena partaimu pdip itu bajingan'</td>\n",
              "      <td>1</td>\n",
              "    </tr>\n",
              "    <tr>\n",
              "      <th>4</th>\n",
              "      <td>USER USER Jgn salah itu janji jokowi yg di tun...</td>\n",
              "      <td>1</td>\n",
              "    </tr>\n",
              "  </tbody>\n",
              "</table>\n",
              "</div>"
            ],
            "text/plain": [
              "                                               Tweet  HS\n",
              "0  GANTENG TAPI BERENGSEK!!! BUAT APA?!!\\nWHO DO ...   1\n",
              "1                              Sakit jiwa kali yah..   0\n",
              "2  Does insulting one for being \"Cina\", \"Kafir\", ...   0\n",
              "3       USER USER Karena partaimu pdip itu bajingan'   1\n",
              "4  USER USER Jgn salah itu janji jokowi yg di tun...   1"
            ]
          },
          "metadata": {
            "tags": []
          },
          "execution_count": 18
        }
      ]
    },
    {
      "cell_type": "code",
      "metadata": {
        "id": "w8-GK7-lDkcz",
        "outputId": "c954862a-f7e1-4fa8-f96d-ff3a3cff392e",
        "colab": {
          "base_uri": "https://localhost:8080/",
          "height": 349
        }
      },
      "source": [
        "sns.countplot(df_test.HS)\n",
        "plt.xlabel('Label')\n",
        "plt.title('Hate Speech')\n",
        "plt.show()"
      ],
      "execution_count": 19,
      "outputs": [
        {
          "output_type": "stream",
          "text": [
            "/usr/local/lib/python3.6/dist-packages/seaborn/_decorators.py:43: FutureWarning: Pass the following variable as a keyword arg: x. From version 0.12, the only valid positional argument will be `data`, and passing other arguments without an explicit keyword will result in an error or misinterpretation.\n",
            "  FutureWarning\n"
          ],
          "name": "stderr"
        },
        {
          "output_type": "display_data",
          "data": {
            "image/png": "[encoded data removed]",
            "text/plain": [
              "<Figure size 432x288 with 1 Axes>"
            ]
          },
          "metadata": {
            "tags": [],
            "needs_background": "light"
          }
        }
      ]
    },
    {
      "cell_type": "code",
      "metadata": {
        "id": "SswlEX9CDvoh",
        "outputId": "6ef74870-bc25-4aca-9050-68be0e3a390e",
        "colab": {
          "base_uri": "https://localhost:8080/",
          "height": 111
        }
      },
      "source": [
        "df_test['Tweet'] = df_test['Tweet'].apply(preprocess)\n",
        "df_test.head(2)"
      ],
      "execution_count": 20,
      "outputs": [
        {
          "output_type": "execute_result",
          "data": {
            "text/html": [
              "<div>\n",
              "<style scoped>\n",
              "    .dataframe tbody tr th:only-of-type {\n",
              "        vertical-align: middle;\n",
              "    }\n",
              "\n",
              "    .dataframe tbody tr th {\n",
              "        vertical-align: top;\n",
              "    }\n",
              "\n",
              "    .dataframe thead th {\n",
              "        text-align: right;\n",
              "    }\n",
              "</style>\n",
              "<table border=\"1\" class=\"dataframe\">\n",
              "  <thead>\n",
              "    <tr style=\"text-align: right;\">\n",
              "      <th></th>\n",
              "      <th>Tweet</th>\n",
              "      <th>HS</th>\n",
              "    </tr>\n",
              "  </thead>\n",
              "  <tbody>\n",
              "    <tr>\n",
              "      <th>0</th>\n",
              "      <td>ganteng berengsek who do think are re nothing ...</td>\n",
              "      <td>1</td>\n",
              "    </tr>\n",
              "    <tr>\n",
              "      <th>1</th>\n",
              "      <td>sakit jiwa kali ya</td>\n",
              "      <td>0</td>\n",
              "    </tr>\n",
              "  </tbody>\n",
              "</table>\n",
              "</div>"
            ],
            "text/plain": [
              "                                               Tweet  HS\n",
              "0  ganteng berengsek who do think are re nothing ...   1\n",
              "1                                 sakit jiwa kali ya   0"
            ]
          },
          "metadata": {
            "tags": []
          },
          "execution_count": 20
        }
      ]
    },
    {
      "cell_type": "code",
      "metadata": {
        "id": "bnoI82SIqDlR",
        "outputId": "5ea95172-66c3-49e4-a162-f106e8e3c1d0",
        "colab": {
          "base_uri": "https://localhost:8080/",
          "height": 170
        }
      },
      "source": [
        "df_test.info()"
      ],
      "execution_count": 21,
      "outputs": [
        {
          "output_type": "stream",
          "text": [
            "<class 'pandas.core.frame.DataFrame'>\n",
            "RangeIndex: 3680 entries, 0 to 3679\n",
            "Data columns (total 2 columns):\n",
            " #   Column  Non-Null Count  Dtype \n",
            "---  ------  --------------  ----- \n",
            " 0   Tweet   3680 non-null   object\n",
            " 1   HS      3680 non-null   int64 \n",
            "dtypes: int64(1), object(1)\n",
            "memory usage: 57.6+ KB\n"
          ],
          "name": "stdout"
        }
      ]
    },
    {
      "cell_type": "code",
      "metadata": {
        "id": "t-RyTW3QD6Qs"
      },
      "source": [
        "data_test = df_test.Tweet\n",
        "test_sequences = tokenisasi.texts_to_sequences(data_test)\n",
        "test_sequences_matrix = sequence.pad_sequences(test_sequences, maxlen=100)"
      ],
      "execution_count": 22,
      "outputs": []
    },
    {
      "cell_type": "code",
      "metadata": {
        "id": "9aIOYK50Ec_g",
        "outputId": "c7a4f7e9-474d-424d-ef11-c2282e354dc7",
        "colab": {
          "base_uri": "https://localhost:8080/",
          "height": 68
        }
      },
      "source": [
        "y_test = df_test.HS\n",
        "\n",
        "pred = model.evaluate(test_sequences_matrix, y_test)\n",
        "print(\"Accuracy = {}\\nLoss = {}\".format(pred[1], pred[0]))"
      ],
      "execution_count": 23,
      "outputs": [
        {
          "output_type": "stream",
          "text": [
            "115/115 [==============================] - 1s 5ms/step - loss: 0.5312 - accuracy: 0.7973\n",
            "Accuracy = 0.7972826361656189\n",
            "Loss = 0.5312195420265198\n"
          ],
          "name": "stdout"
        }
      ]
    },
    {
      "cell_type": "code",
      "metadata": {
        "id": "JQZWqOCuYd96",
        "outputId": "d982dbe0-9a77-462b-96b8-471a48eb5519",
        "colab": {
          "base_uri": "https://localhost:8080/",
          "height": 418
        }
      },
      "source": [
        "prediksi = model.predict(test_sequences_matrix)\n",
        "\n",
        "out_prediksi = []\n",
        "for x in prediksi:\n",
        "    if x < 0.5:\n",
        "        out_prediksi.append(0)\n",
        "    else:\n",
        "        out_prediksi.append(1)\n",
        "\n",
        "acc = confusion_matrix(y_test, out_prediksi)\n",
        "\n",
        "sns.heatmap(acc, annot=True, fmt='.0f', cmap='Blues')\n",
        "plt.show()\n",
        "\n",
        "print(classification_report(y_test, out_prediksi))"
      ],
      "execution_count": 24,
      "outputs": [
        {
          "output_type": "display_data",
          "data": {
            "image/png": "[encoded data removed]",
            "text/plain": [
              "<Figure size 432x288 with 2 Axes>"
            ]
          },
          "metadata": {
            "tags": [],
            "needs_background": "light"
          }
        },
        {
          "output_type": "stream",
          "text": [
            "              precision    recall  f1-score   support\n",
            "\n",
            "           0       0.85      0.80      0.83      2204\n",
            "           1       0.73      0.79      0.76      1476\n",
            "\n",
            "    accuracy                           0.80      3680\n",
            "   macro avg       0.79      0.80      0.79      3680\n",
            "weighted avg       0.80      0.80      0.80      3680\n",
            "\n"
          ],
          "name": "stdout"
        }
      ]
    }
  ]
}